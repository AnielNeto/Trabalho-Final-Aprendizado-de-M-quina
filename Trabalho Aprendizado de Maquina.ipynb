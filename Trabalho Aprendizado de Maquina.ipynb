{
 "cells": [
  {
   "cell_type": "markdown",
   "id": "02f9aebc-eca6-42e9-8647-f8d7ef3dc991",
   "metadata": {},
   "source": [
    "<div align=\"center\">\n",
    "    <H1>Aprendizado de Máquina - Trabalho Final</H1>\n",
    "    <H3>Prof.º Daniel Roberto Cassar</H3> \n",
    "</div>\n",
    "\n",
    "<br>\n",
    "\n",
    "<div align=\"right\">\n",
    "    <H3>Guilda: Carcajus</H3>\n",
    "    <H4>Aniel Souza Ribeiro Neto</H4>\n",
    "    <H4>Caio ... </H4>\n",
    "    <H4>Joaquim ...</H4>\n",
    "</div>\n",
    "\n",
    "<br> \n",
    "\n",
    "<div align=\"center\">\n",
    "    <img src=\"Imagens/carcajus_bg.png\" width=\"500\"/>\n",
    "</div>"
   ]
  },
  {
   "cell_type": "code",
   "execution_count": null,
   "id": "42ee246e-268d-42bc-90a4-d17064d2d62c",
   "metadata": {},
   "outputs": [],
   "source": []
  }
 ],
 "metadata": {
  "kernelspec": {
   "display_name": "Python 3 (ipykernel)",
   "language": "python",
   "name": "python3"
  },
  "language_info": {
   "codemirror_mode": {
    "name": "ipython",
    "version": 3
   },
   "file_extension": ".py",
   "mimetype": "text/x-python",
   "name": "python",
   "nbconvert_exporter": "python",
   "pygments_lexer": "ipython3",
   "version": "3.12.7"
  }
 },
 "nbformat": 4,
 "nbformat_minor": 5
}
